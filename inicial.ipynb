{
 "cells": [
  {
   "cell_type": "markdown",
   "metadata": {},
   "source": [
    "# Python Insights - Analisando Dados com Python\n",
    "\n",
    "### Case - Cancelamento de Clientes\n",
    "\n",
    "Você foi contratado por uma empresa com mais de 800 mil clientes para um projeto de Dados. Recentemente a empresa percebeu que da sua base total de clientes, a maioria são clientes inativos, ou seja, que já cancelaram o serviço.\n",
    "\n",
    "Precisando melhorar seus resultados ela quer conseguir entender os principais motivos desses cancelamentos e quais as ações mais eficientes para reduzir esse número.\n",
    "\n",
    "Base de dados e arquivos: https://drive.google.com/drive/folders/1uDesZePdkhiraJmiyeZ-w5tfc8XsNYFZ?usp=drive_link"
   ]
  },
  {
   "cell_type": "code",
   "execution_count": null,
   "metadata": {},
   "outputs": [],
   "source": [
    "# Passo a Passo do projeto\n",
    "# Importar Dados\n",
    "# Identificar e tratar problemas da base de dados\n",
    "# Analise Inicial\n",
    "# Criar Graficos\n",
    "# Analisar e propor soluções"
   ]
  },
  {
   "cell_type": "code",
   "execution_count": null,
   "metadata": {},
   "outputs": [],
   "source": [
    "# importar dados\n",
    "import pandas as pd \n",
    "\n",
    "table = pd.read_csv(\"cancelamentos.csv\")\n",
    "display(table)"
   ]
  },
  {
   "cell_type": "code",
   "execution_count": null,
   "metadata": {},
   "outputs": [],
   "source": [
    "# identificar problemas\n",
    "print(table.info())\n"
   ]
  },
  {
   "cell_type": "code",
   "execution_count": null,
   "metadata": {},
   "outputs": [],
   "source": [
    "#tratar problemas\n",
    "\n",
    "# remover colunas inuteis\n",
    "table = table.drop(columns= \"CustomerID\")\n",
    "\n",
    "# remover linhas com valores vazios\n",
    "table = table.dropna()\n",
    "\n",
    "print(table.info())\n",
    "\n",
    "display(table)"
   ]
  },
  {
   "cell_type": "code",
   "execution_count": null,
   "metadata": {},
   "outputs": [],
   "source": [
    "# analise inicial dos cancelamentos\n",
    "print(table[\"cancelou\"].value_counts())\n",
    "\n",
    "# em porcentagem\n",
    "print(table[\"cancelou\"].value_counts(normalize=True))"
   ]
  },
  {
   "cell_type": "code",
   "execution_count": null,
   "metadata": {},
   "outputs": [],
   "source": [
    "# criação dos graficos\n",
    "import plotly.express as px\n",
    "\n",
    "for column in table.columns:\n",
    "    grafico = px.histogram(table, x= column, color = \"cancelou\")\n",
    "    grafico.show()"
   ]
  },
  {
   "cell_type": "code",
   "execution_count": null,
   "metadata": {},
   "outputs": [],
   "source": [
    "# Clientes coms mais de 50 anos TODOS cancelaram\n",
    "  # criar campanhas com foco em pessoas com menos de 51 anos\n",
    "  \n",
    "# clientes do contrato mensal TODOS cancelaram\n",
    "  # oferecer desconto nos planos anuais e trimestrais\n",
    "  \n",
    "# clientes que ligam mais de 5 vezes para o call-center cancelam\n",
    "  # criar um processo para resolver o problema do cliente em no maximo 4 ligações\n",
    "  \n",
    "# clientes que atrasaram mais de 20 dias cancelaram\n",
    "  # politica de resolver atrasos em até 10 dias (equipe financeira)\n",
    "  \n",
    "table = table[table[\"idade\"] < 51] \n",
    "\n",
    "table = table[table[\"duracao_contrato\"] != \"Monthly\"]\n",
    "\n",
    "table = table[table[\"ligacoes_callcenter\"] <= 4]\n",
    "\n",
    "table = table[table[\"dias_atraso\"] <= 20]\n",
    "                                                                                                                     \n",
    "display(table[\"cancelou\"].value_counts(normalize=True))"
   ]
  }
 ],
 "metadata": {
  "kernelspec": {
   "display_name": "base",
   "language": "python",
   "name": "python3"
  },
  "language_info": {
   "codemirror_mode": {
    "name": "ipython",
    "version": 3
   },
   "file_extension": ".py",
   "mimetype": "text/x-python",
   "name": "python",
   "nbconvert_exporter": "python",
   "pygments_lexer": "ipython3",
   "version": "3.12.0"
  },
  "orig_nbformat": 4
 },
 "nbformat": 4,
 "nbformat_minor": 2
}
